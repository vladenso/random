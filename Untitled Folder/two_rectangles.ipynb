{
 "cells": [
  {
   "cell_type": "markdown",
   "metadata": {},
   "source": [
    "### Given two rectangles, find if the given two rectangles overlap or not."
   ]
  },
  {
   "cell_type": "code",
   "execution_count": 9,
   "metadata": {
    "collapsed": true
   },
   "outputs": [],
   "source": [
    "def overlap(l1, r1, l2, r2) :\n",
    "    # either left or right of it\n",
    "    if r1[0] < l2[0] or r2[0] < l1[0]:\n",
    "        return False\n",
    "    # abow or bellow\n",
    "    elif r1[1] > l2[1] or r2[1] > l1[1]:\n",
    "        return False\n",
    "    return True\n",
    "    "
   ]
  },
  {
   "cell_type": "code",
   "execution_count": 10,
   "metadata": {
    "collapsed": false
   },
   "outputs": [
    {
     "name": "stdout",
     "output_type": "stream",
     "text": [
      "True\n"
     ]
    }
   ],
   "source": [
    "# (1,9)\n",
    "#      (8, 4) \n",
    "#   * * * * *\n",
    "#   * * *•*•*• •\n",
    "#   * * *•*•*• •\n",
    "#        • • • •\n",
    "#        (4, 5)\n",
    "#              (10, 2)            \n",
    "print(overlap((1,9), (8, 4), (4, 5), (10, 2)) == True)"
   ]
  },
  {
   "cell_type": "code",
   "execution_count": 11,
   "metadata": {
    "collapsed": false
   },
   "outputs": [
    {
     "name": "stdout",
     "output_type": "stream",
     "text": [
      "True\n"
     ]
    }
   ],
   "source": [
    "# (1,9)\n",
    "#        (8, 5)\n",
    "#   * * * * *\n",
    "#   * * * * *   \n",
    "#   * * * * *  \n",
    "#        • • • •\n",
    "#        • • • •\n",
    "#        (5, 4)\n",
    "#              (10, 2)            \n",
    "print(overlap((1,9), (8, 5), (5, 4), (10, 2)) == False)"
   ]
  },
  {
   "cell_type": "code",
   "execution_count": null,
   "metadata": {
    "collapsed": true
   },
   "outputs": [],
   "source": []
  }
 ],
 "metadata": {
  "anaconda-cloud": {},
  "kernelspec": {
   "display_name": "Python [conda root]",
   "language": "python",
   "name": "conda-root-py"
  },
  "language_info": {
   "codemirror_mode": {
    "name": "ipython",
    "version": 3
   },
   "file_extension": ".py",
   "mimetype": "text/x-python",
   "name": "python",
   "nbconvert_exporter": "python",
   "pygments_lexer": "ipython3",
   "version": "3.5.2"
  }
 },
 "nbformat": 4,
 "nbformat_minor": 1
}
