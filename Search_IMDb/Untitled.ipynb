{
 "cells": [
  {
   "cell_type": "code",
   "execution_count": 80,
   "metadata": {
    "collapsed": false
   },
   "outputs": [],
   "source": [
    "import requests\n",
    "from bs4 import BeautifulSoup\n",
    "from functools import reduce"
   ]
  },
  {
   "cell_type": "code",
   "execution_count": 2,
   "metadata": {
    "collapsed": true
   },
   "outputs": [],
   "source": [
    "url = 'http://www.imdb.com/search/title?groups=top_1000' #&page=2"
   ]
  },
  {
   "cell_type": "code",
   "execution_count": 3,
   "metadata": {
    "collapsed": true
   },
   "outputs": [],
   "source": [
    "def parse_movie(m):\n",
    "    title = m.a.text\n",
    "    t = m.text.replace('\\n', '')\n",
    "    d = t[t.find('Directo')+9:]\n",
    "    directors = names(d[:d.find('|')]) \n",
    "    b = t.find('Stars')\n",
    "    e = t.find('Votes')\n",
    "    actors = names(t[b+6:e])\n",
    "    return title, directors, actors"
   ]
  },
  {
   "cell_type": "code",
   "execution_count": 4,
   "metadata": {
    "collapsed": true
   },
   "outputs": [],
   "source": [
    "def names(string):\n",
    "    names = [s for s in string.split(',') if len(s) > 1]\n",
    "    for i in range(len(names)):\n",
    "        if not names[i][0].isalpha():\n",
    "            names[i] = names[i][1:]\n",
    "    return names"
   ]
  },
  {
   "cell_type": "code",
   "execution_count": 5,
   "metadata": {
    "collapsed": false
   },
   "outputs": [],
   "source": [
    "movies = []\n",
    "for i in range(1, 21):\n",
    "    url = 'http://www.imdb.com/search/title?groups=top_1000&page=' + str(i)\n",
    "    response = requests.get(url)\n",
    "    if response.status_code == 200:\n",
    "        soup = BeautifulSoup(response.content, 'html.parser')\n",
    "        for m in soup.find_all(\"div\", {\"class\": \"lister-item-content\"}):\n",
    "            t, d, a = parse_movie(m)\n",
    "            m = {'title': t,\n",
    "                 'director': d,\n",
    "                 'actors': a}\n",
    "            movies.append(m)"
   ]
  },
  {
   "cell_type": "code",
   "execution_count": 8,
   "metadata": {
    "collapsed": false
   },
   "outputs": [
    {
     "name": "stdout",
     "output_type": "stream",
     "text": [
      "1000\n"
     ]
    }
   ],
   "source": [
    "print(len(results))    "
   ]
  },
  {
   "cell_type": "code",
   "execution_count": 61,
   "metadata": {
    "collapsed": false
   },
   "outputs": [],
   "source": [
    "movies = results"
   ]
  },
  {
   "cell_type": "code",
   "execution_count": 62,
   "metadata": {
    "collapsed": false
   },
   "outputs": [],
   "source": [
    "def build_index(movies):\n",
    "    search_index = {}\n",
    "    for m in movies:\n",
    "        for key in get_key_words(m):\n",
    "            if key in search_index:\n",
    "                search_index[key].append(m)\n",
    "            else:\n",
    "                search_index[key] = [m]\n",
    "    return search_index"
   ]
  },
  {
   "cell_type": "code",
   "execution_count": 63,
   "metadata": {
    "collapsed": false
   },
   "outputs": [],
   "source": [
    "def get_key_words(m):\n",
    "    keys = m[\"title\"].split(' ')\n",
    "    keys += [x for d in m[\"director\"] for x in d.split(' ')] \n",
    "    keys += [x for a in m[\"actors\"] for x in a.split(' ')]\n",
    "    keys = [k.lower() for k in keys]\n",
    "    return keys"
   ]
  },
  {
   "cell_type": "code",
   "execution_count": 84,
   "metadata": {
    "collapsed": false
   },
   "outputs": [],
   "source": [
    "def find(keys, index):\n",
    "    search_keys = keys.split(' ')\n",
    "    results = []\n",
    "    for key in search_keys:\n",
    "        results.append(set([m['title'] for m in search_index.get(key.lower())]))\n",
    "    return reduce((lambda x, y: x & y), results)"
   ]
  },
  {
   "cell_type": "code",
   "execution_count": 85,
   "metadata": {
    "collapsed": false
   },
   "outputs": [
    {
     "data": {
      "text/plain": [
       "{'Ready Player One'}"
      ]
     },
     "execution_count": 85,
     "metadata": {},
     "output_type": "execute_result"
    }
   ],
   "source": [
    "find('spielberg sheridan', search_index)"
   ]
  },
  {
   "cell_type": "code",
   "execution_count": 86,
   "metadata": {
    "collapsed": false
   },
   "outputs": [
    {
     "data": {
      "text/plain": [
       "[{'actors': ['Tye Sheridan', 'Olivia Cooke', 'Ben Mendelsohn', 'Lena Waithe'],\n",
       "  'director': ['Steven Spielberg'],\n",
       "  'title': 'Ready Player One'},\n",
       " {'actors': ['Liam Neeson',\n",
       "   'Ralph Fiennes',\n",
       "   'Ben Kingsley',\n",
       "   'Caroline Goodall'],\n",
       "  'director': ['Steven Spielberg'],\n",
       "  'title': \"Schindler's List\"},\n",
       " {'actors': ['Henry Thomas', 'Drew Barrymore', 'Peter Coyote', 'Dee Wallace'],\n",
       "  'director': ['Steven Spielberg'],\n",
       "  'title': 'E.T. the Extra-Terrestrial'},\n",
       " {'actors': ['Tom Hanks', 'Matt Damon', 'Tom Sizemore', 'Edward Burns'],\n",
       "  'director': ['Steven Spielberg'],\n",
       "  'title': 'Saving Private Ryan'},\n",
       " {'actors': ['Sam Neill',\n",
       "   'Laura Dern',\n",
       "   'Jeff Goldblum',\n",
       "   'Richard Attenborough'],\n",
       "  'director': ['Steven Spielberg'],\n",
       "  'title': 'Jurassic Park'},\n",
       " {'actors': ['Harrison Ford',\n",
       "   'Karen Allen',\n",
       "   'Paul Freeman',\n",
       "   'John Rhys-Davies'],\n",
       "  'director': ['Steven Spielberg'],\n",
       "  'title': 'Raiders of the Lost Ark'},\n",
       " {'actors': ['Tom Hanks', 'Mark Rylance', 'Alan Alda', 'Amy Ryan'],\n",
       "  'director': ['Steven Spielberg'],\n",
       "  'title': 'Bridge of Spies'},\n",
       " {'actors': ['Leonardo DiCaprio',\n",
       "   'Tom Hanks',\n",
       "   'Christopher Walken',\n",
       "   'Martin Sheen'],\n",
       "  'director': ['Steven Spielberg'],\n",
       "  'title': 'Catch Me If You Can'},\n",
       " {'actors': ['Roy Scheider',\n",
       "   'Robert Shaw',\n",
       "   'Richard Dreyfuss',\n",
       "   'Lorraine Gary'],\n",
       "  'director': ['Steven Spielberg'],\n",
       "  'title': 'Jaws'},\n",
       " {'actors': ['Harrison Ford',\n",
       "   'Sean Connery',\n",
       "   'Alison Doody',\n",
       "   'Denholm Elliott'],\n",
       "  'director': ['Steven Spielberg'],\n",
       "  'title': 'Indiana Jones and the Last Crusade'},\n",
       " {'actors': ['Tom Cruise',\n",
       "   'Colin Farrell',\n",
       "   'Samantha Morton',\n",
       "   'Max von Sydow'],\n",
       "  'director': ['Steven Spielberg'],\n",
       "  'title': 'Minority Report'},\n",
       " {'actors': ['Harrison Ford',\n",
       "   'Kate Capshaw',\n",
       "   'Jonathan Ke Quan',\n",
       "   'Amrish Puri'],\n",
       "  'director': ['Steven Spielberg'],\n",
       "  'title': 'Indiana Jones and the Temple of Doom'},\n",
       " {'actors': ['Richard Dreyfuss',\n",
       "   'François Truffaut',\n",
       "   'Teri Garr',\n",
       "   'Melinda Dillon'],\n",
       "  'director': ['Steven Spielberg'],\n",
       "  'title': 'Close Encounters of the Third Kind'},\n",
       " {'actors': ['Christian Bale',\n",
       "   'John Malkovich',\n",
       "   'Miranda Richardson',\n",
       "   'Nigel Havers'],\n",
       "  'director': ['Steven Spielberg'],\n",
       "  'title': 'Empire of the Sun'},\n",
       " {'actors': ['Danny Glover',\n",
       "   'Whoopi Goldberg',\n",
       "   'Oprah Winfrey',\n",
       "   'Margaret Avery'],\n",
       "  'director': ['Steven Spielberg'],\n",
       "  'title': 'The Color Purple'},\n",
       " {'actors': ['Eric Bana', 'Daniel Craig', 'Marie-Josée Croze', 'Ciarán Hinds'],\n",
       "  'director': ['Steven Spielberg'],\n",
       "  'title': 'Munich'}]"
      ]
     },
     "execution_count": 86,
     "metadata": {},
     "output_type": "execute_result"
    }
   ],
   "source": [
    "search_index = build_index(movies)\n",
    "search_index.get('spielberg')"
   ]
  },
  {
   "cell_type": "code",
   "execution_count": 79,
   "metadata": {
    "collapsed": false
   },
   "outputs": [
    {
     "data": {
      "text/plain": [
       "['keys']"
      ]
     },
     "execution_count": 79,
     "metadata": {},
     "output_type": "execute_result"
    }
   ],
   "source": [
    "'keys'.split(' ')"
   ]
  },
  {
   "cell_type": "code",
   "execution_count": 77,
   "metadata": {
    "collapsed": false
   },
   "outputs": [
    {
     "data": {
      "text/plain": [
       "{'actors': ['Tye Sheridan', 'Olivia Cooke', 'Ben Mendelsohn', 'Lena Waithe'],\n",
       " 'director': ['Steven Spielberg'],\n",
       " 'title': 'Ready Player One'}"
      ]
     },
     "execution_count": 77,
     "metadata": {},
     "output_type": "execute_result"
    }
   ],
   "source": [
    "movies[0]"
   ]
  },
  {
   "cell_type": "code",
   "execution_count": null,
   "metadata": {
    "collapsed": true
   },
   "outputs": [],
   "source": []
  }
 ],
 "metadata": {
  "kernelspec": {
   "display_name": "Python [conda root]",
   "language": "python",
   "name": "conda-root-py"
  },
  "language_info": {
   "codemirror_mode": {
    "name": "ipython",
    "version": 3
   },
   "file_extension": ".py",
   "mimetype": "text/x-python",
   "name": "python",
   "nbconvert_exporter": "python",
   "pygments_lexer": "ipython3",
   "version": "3.5.2"
  }
 },
 "nbformat": 4,
 "nbformat_minor": 1
}
