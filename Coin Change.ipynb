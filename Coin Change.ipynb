{
 "cells": [
  {
   "cell_type": "markdown",
   "metadata": {},
   "source": [
    "### Given a number of dollars, n, and a list of dollar values for m distinct coins, {c1, c2..., cn} , find the number of different ways you can make change for n dollars if each coin is available in an infinite quantity."
   ]
  },
  {
   "cell_type": "code",
   "execution_count": 126,
   "metadata": {
    "collapsed": false
   },
   "outputs": [],
   "source": [
    "#recursion \n",
    "def make_change(coins, n, i=0, used=[]):\n",
    "    if n < 0 or i >= len(coins):\n",
    "        return 0\n",
    "    elif n == 0:\n",
    "        print(used)\n",
    "        return 1\n",
    "    return make_change(coins, n, i+1, used) + \\\n",
    "            make_change(coins, n-coins[i], i, used + [coins[i]])"
   ]
  },
  {
   "cell_type": "code",
   "execution_count": 120,
   "metadata": {
    "collapsed": false
   },
   "outputs": [
    {
     "name": "stdout",
     "output_type": "stream",
     "text": [
      "[4, 6]\n",
      "[4, 3, 3]\n",
      "[2, 4, 4]\n",
      "[2, 2, 6]\n",
      "[2, 2, 3, 3]\n",
      "[2, 2, 2, 4]\n",
      "[2, 2, 2, 2, 2]\n",
      "True\n"
     ]
    }
   ],
   "source": [
    "print(make_change([2,4,3,6], 10) == 7)"
   ]
  },
  {
   "cell_type": "code",
   "execution_count": 121,
   "metadata": {
    "collapsed": false
   },
   "outputs": [
    {
     "name": "stdout",
     "output_type": "stream",
     "text": [
      "[2, 2]\n",
      "[1, 3]\n",
      "[1, 1, 2]\n",
      "[1, 1, 1, 1]\n",
      "True\n"
     ]
    }
   ],
   "source": [
    "print(make_change([1,2,3], 4) == 4)"
   ]
  },
  {
   "cell_type": "code",
   "execution_count": 128,
   "metadata": {
    "collapsed": false
   },
   "outputs": [
    {
     "name": "stdout",
     "output_type": "stream",
     "text": [
      "[2, 2]\n",
      "[1, 3]\n",
      "[1, 1, 2]\n",
      "[1, 1, 1, 1]\n"
     ]
    },
    {
     "data": {
      "text/plain": [
       "4"
      ]
     },
     "execution_count": 128,
     "metadata": {},
     "output_type": "execute_result"
    }
   ],
   "source": [
    "make_change([1,2,3], 4) "
   ]
  },
  {
   "cell_type": "code",
   "execution_count": 124,
   "metadata": {
    "collapsed": true
   },
   "outputs": [],
   "source": [
    "# DP\n",
    "def make_change(coins, n, used=[]):\n",
    "    dp = [[0] * len(coins)] * (n+1)\n",
    "    for i in range(n+1):\n",
    "        for c in range(len(coins)):\n",
    "            if i <= c:\n",
    "                dp[i][c] += 1\n",
    "    print(dp)      \n",
    "    return dp[len(coins) - 1][n]\n",
    "#  c            \n",
    "#n 0 1 2 3 4 \n",
    "#1 0 1 1 1 3       \n",
    "#2 0 0 1 1 2 \n",
    "#3 0 0 0 1 1\n",
    "#t 0 1 2 3 6def count(S, m, n):\n",
    " \n",
    "    # table[i] will be storing the number of solutions for\n",
    "    # value i. We need n+1 rows as the table is constructed\n",
    "    # in bottom up manner using the base case (n = 0)\n",
    "    # Initialize all table values as 0\n",
    "    table = [0 for k in range(n+1)]\n",
    " \n",
    "    # Base case (If given value is 0)\n",
    "    table[0] = 1\n",
    " \n",
    "    # Pick all coins one by one and update the table[] values\n",
    "    # after the index greater than or equal to the value of the\n",
    "    # picked coin\n",
    "    for i in range(0,m):\n",
    "        for j in range(S[i],n+1):\n",
    "            table[j] += table[j-S[i]]\n",
    " \n",
    "    return table[n] "
   ]
  },
  {
   "cell_type": "code",
   "execution_count": 125,
   "metadata": {
    "collapsed": false
   },
   "outputs": [
    {
     "name": "stdout",
     "output_type": "stream",
     "text": [
      "[[1, 2, 3], [1, 2, 3], [1, 2, 3], [1, 2, 3], [1, 2, 3]]\n"
     ]
    },
    {
     "ename": "IndexError",
     "evalue": "list index out of range",
     "output_type": "error",
     "traceback": [
      "\u001b[0;31m---------------------------------------------------------------------------\u001b[0m",
      "\u001b[0;31mIndexError\u001b[0m                                Traceback (most recent call last)",
      "\u001b[0;32m<ipython-input-125-dceb57c1d850>\u001b[0m in \u001b[0;36m<module>\u001b[0;34m()\u001b[0m\n\u001b[0;32m----> 1\u001b[0;31m \u001b[0mmake_change\u001b[0m\u001b[0;34m(\u001b[0m\u001b[0;34m[\u001b[0m\u001b[0;36m1\u001b[0m\u001b[0;34m,\u001b[0m\u001b[0;36m2\u001b[0m\u001b[0;34m,\u001b[0m\u001b[0;36m3\u001b[0m\u001b[0;34m]\u001b[0m\u001b[0;34m,\u001b[0m \u001b[0;36m4\u001b[0m\u001b[0;34m)\u001b[0m\u001b[0;34m\u001b[0m\u001b[0m\n\u001b[0m",
      "\u001b[0;32m<ipython-input-124-d7851d08b261>\u001b[0m in \u001b[0;36mmake_change\u001b[0;34m(coins, n, used)\u001b[0m\n\u001b[1;32m      7\u001b[0m                 \u001b[0mdp\u001b[0m\u001b[0;34m[\u001b[0m\u001b[0mi\u001b[0m\u001b[0;34m]\u001b[0m\u001b[0;34m[\u001b[0m\u001b[0mc\u001b[0m\u001b[0;34m]\u001b[0m \u001b[0;34m+=\u001b[0m \u001b[0;36m1\u001b[0m\u001b[0;34m\u001b[0m\u001b[0m\n\u001b[1;32m      8\u001b[0m     \u001b[0mprint\u001b[0m\u001b[0;34m(\u001b[0m\u001b[0mdp\u001b[0m\u001b[0;34m)\u001b[0m\u001b[0;34m\u001b[0m\u001b[0m\n\u001b[0;32m----> 9\u001b[0;31m     \u001b[0;32mreturn\u001b[0m \u001b[0mdp\u001b[0m\u001b[0;34m[\u001b[0m\u001b[0mlen\u001b[0m\u001b[0;34m(\u001b[0m\u001b[0mcoins\u001b[0m\u001b[0;34m)\u001b[0m \u001b[0;34m-\u001b[0m \u001b[0;36m1\u001b[0m\u001b[0;34m]\u001b[0m\u001b[0;34m[\u001b[0m\u001b[0mn\u001b[0m\u001b[0;34m]\u001b[0m\u001b[0;34m\u001b[0m\u001b[0m\n\u001b[0m\u001b[1;32m     10\u001b[0m \u001b[0;34m\u001b[0m\u001b[0m\n\u001b[1;32m     11\u001b[0m \u001b[0;34m\u001b[0m\u001b[0m\n",
      "\u001b[0;31mIndexError\u001b[0m: list index out of range"
     ]
    }
   ],
   "source": [
    "make_change([1,2,3], 4)"
   ]
  },
  {
   "cell_type": "code",
   "execution_count": 89,
   "metadata": {
    "collapsed": false
   },
   "outputs": [
    {
     "name": "stdout",
     "output_type": "stream",
     "text": [
      "[2, 4, 3, 6]\n",
      "[4, 3, 6]\n",
      "[3, 6]\n",
      "[3, 6]\n",
      "[3, 6]\n",
      "[3, 6]\n",
      "[4, 3, 6]\n",
      "[3, 6]\n",
      "[3, 6]\n",
      "[2, 4]\n",
      "[4, 3, 6]\n",
      "[3, 6]\n",
      "[2, 4, 3, 6]\n",
      "[4, 3, 6]\n",
      "[3, 6]\n",
      "[3, 6]\n",
      "[3, 6]\n",
      "[4, 3, 6]\n",
      "[3, 6]\n",
      "[3, 6]\n",
      "[2]\n",
      "[2, 4, 3, 6]\n",
      "[4, 3, 6]\n",
      "[3, 6]\n",
      "[3, 6]\n",
      "[2, 4]\n",
      "[4, 3, 6]\n",
      "[3, 6]\n",
      "[2, 4, 3, 6]\n",
      "[4, 3, 6]\n",
      "[3, 6]\n",
      "[3, 6]\n",
      "[2]\n",
      "[2, 4, 3, 6]\n",
      "[4, 3, 6]\n",
      "[3, 6]\n",
      "[]\n"
     ]
    },
    {
     "data": {
      "text/plain": [
       "7"
      ]
     },
     "execution_count": 89,
     "metadata": {},
     "output_type": "execute_result"
    }
   ],
   "source": [
    "make_change([2,4,3,6], 10)"
   ]
  },
  {
   "cell_type": "code",
   "execution_count": 131,
   "metadata": {
    "collapsed": false
   },
   "outputs": [],
   "source": [
    "def make_change(coins, n):\n",
    "    dp = [0] * (n+1)\n",
    "    dp[0] = 1\n",
    " \n",
    "    for i in range(len(coins)):\n",
    "        for j in range(coins[i], n+1):\n",
    "            dp[j] += dp[j-coins[i]]\n",
    "    return table[n]\n",
    "\n",
    "#  0  1  2  3  4   \n",
    "#1 1  1  1  1  1\n",
    "#2       2  2  3\n",
    "#3            "
   ]
  },
  {
   "cell_type": "code",
   "execution_count": 103,
   "metadata": {
    "collapsed": false
   },
   "outputs": [
    {
     "name": "stdout",
     "output_type": "stream",
     "text": [
      "[2, 2]\n",
      "[1, 3]\n",
      "[1, 1, 2]\n",
      "[1, 1, 1, 1]\n"
     ]
    },
    {
     "data": {
      "text/plain": [
       "4"
      ]
     },
     "execution_count": 103,
     "metadata": {},
     "output_type": "execute_result"
    }
   ],
   "source": [
    "make_change([1,2,3], 4)"
   ]
  },
  {
   "cell_type": "code",
   "execution_count": 132,
   "metadata": {
    "collapsed": false
   },
   "outputs": [
    {
     "data": {
      "text/plain": [
       "4"
      ]
     },
     "execution_count": 132,
     "metadata": {},
     "output_type": "execute_result"
    }
   ],
   "source": [
    "count([1,2,3], 4, 3)"
   ]
  },
  {
   "cell_type": "code",
   "execution_count": null,
   "metadata": {
    "collapsed": false
   },
   "outputs": [],
   "source": []
  },
  {
   "cell_type": "code",
   "execution_count": null,
   "metadata": {
    "collapsed": true
   },
   "outputs": [],
   "source": []
  }
 ],
 "metadata": {
  "anaconda-cloud": {},
  "kernelspec": {
   "display_name": "Python [conda root]",
   "language": "python",
   "name": "conda-root-py"
  },
  "language_info": {
   "codemirror_mode": {
    "name": "ipython",
    "version": 3
   },
   "file_extension": ".py",
   "mimetype": "text/x-python",
   "name": "python",
   "nbconvert_exporter": "python",
   "pygments_lexer": "ipython3",
   "version": "3.5.2"
  }
 },
 "nbformat": 4,
 "nbformat_minor": 1
}
