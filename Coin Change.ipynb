{
 "cells": [
  {
   "cell_type": "markdown",
   "metadata": {},
   "source": [
    "### Given a number of dollars, n, and a list of dollar values for m distinct coins, {c1, c2..., cn} , find the number of different ways you can make change for n dollars if each coin is available in an infinite quantity."
   ]
  },
  {
   "cell_type": "code",
   "execution_count": 1,
   "metadata": {
    "collapsed": false
   },
   "outputs": [],
   "source": [
    "#recursion \n",
    "def make_change(coins, n, i=0, used=[]):\n",
    "    if n < 0 or i >= len(coins):\n",
    "        return 0\n",
    "    elif n == 0:\n",
    "        print(used)\n",
    "        return 1\n",
    "    return make_change(coins, n, i+1, used) + \\\n",
    "            make_change(coins, n-coins[i], i, used + [coins[i]])"
   ]
  },
  {
   "cell_type": "code",
   "execution_count": 2,
   "metadata": {
    "collapsed": false
   },
   "outputs": [
    {
     "name": "stdout",
     "output_type": "stream",
     "text": [
      "[4, 6]\n",
      "[4, 3, 3]\n",
      "[2, 4, 4]\n",
      "[2, 2, 6]\n",
      "[2, 2, 3, 3]\n",
      "[2, 2, 2, 4]\n",
      "[2, 2, 2, 2, 2]\n",
      "True\n"
     ]
    }
   ],
   "source": [
    "print(make_change([2,4,3,6], 10) == 7)"
   ]
  },
  {
   "cell_type": "code",
   "execution_count": 3,
   "metadata": {
    "collapsed": false
   },
   "outputs": [
    {
     "name": "stdout",
     "output_type": "stream",
     "text": [
      "[2, 2]\n",
      "[1, 3]\n",
      "[1, 1, 2]\n",
      "[1, 1, 1, 1]\n",
      "True\n"
     ]
    }
   ],
   "source": [
    "print(make_change([1,2,3], 4) == 4)"
   ]
  },
  {
   "cell_type": "code",
   "execution_count": 5,
   "metadata": {
    "collapsed": true
   },
   "outputs": [],
   "source": [
    "# DP\n",
    "def make_change(coins, n):\n",
    "    dp = [0] * (n+1)\n",
    "    dp[0] = 1\n",
    " \n",
    "    for i in range(len(coins)):\n",
    "        for j in range(coins[i], n+1):\n",
    "            dp[j] += dp[j-coins[i]]\n",
    "    return dp[n]"
   ]
  },
  {
   "cell_type": "code",
   "execution_count": 6,
   "metadata": {
    "collapsed": false
   },
   "outputs": [
    {
     "name": "stdout",
     "output_type": "stream",
     "text": [
      "True\n",
      "True\n",
      "True\n",
      "True\n"
     ]
    }
   ],
   "source": [
    "print(make_change([2,4,3,6], 10) == 7)\n",
    "print(make_change([1,2,3], 4) == 4)\n",
    "print(make_change([1,2,3], 0) == 1)\n",
    "print(make_change([5,2,3], 1) == 0)"
   ]
  },
  {
   "cell_type": "code",
   "execution_count": null,
   "metadata": {
    "collapsed": true
   },
   "outputs": [],
   "source": []
  }
 ],
 "metadata": {
  "anaconda-cloud": {},
  "kernelspec": {
   "display_name": "Python [conda root]",
   "language": "python",
   "name": "conda-root-py"
  },
  "language_info": {
   "codemirror_mode": {
    "name": "ipython",
    "version": 3
   },
   "file_extension": ".py",
   "mimetype": "text/x-python",
   "name": "python",
   "nbconvert_exporter": "python",
   "pygments_lexer": "ipython3",
   "version": "3.5.2"
  }
 },
 "nbformat": 4,
 "nbformat_minor": 1
}
