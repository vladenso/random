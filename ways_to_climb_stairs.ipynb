{
 "cells": [
  {
   "cell_type": "markdown",
   "metadata": {},
   "source": [
    "### Number of ways to climb stairs using 1, 2, and 3 stair hops."
   ]
  },
  {
   "cell_type": "code",
   "execution_count": 58,
   "metadata": {
    "collapsed": true
   },
   "outputs": [],
   "source": [
    "def number_of_ways(n, count=0):\n",
    "    if n <= 0:\n",
    "        return count\n",
    "    elif n == 3:\n",
    "        return 4\n",
    "    elif n == 2:\n",
    "        return 2\n",
    "    elif n == 1:\n",
    "        return 1\n",
    "    return number_of_ways(n-1, count+1) + number_of_ways(n-2, count+1) + number_of_ways(n-3, count+1)"
   ]
  },
  {
   "cell_type": "code",
   "execution_count": 95,
   "metadata": {
    "collapsed": false
   },
   "outputs": [
    {
     "name": "stdout",
     "output_type": "stream",
     "text": [
      "True\n",
      "True\n"
     ]
    }
   ],
   "source": [
    "print(number_of_ways(7) == 44)\n",
    "\n",
    "print(number_of_ways(9)==149)"
   ]
  },
  {
   "cell_type": "code",
   "execution_count": 88,
   "metadata": {
    "collapsed": false
   },
   "outputs": [],
   "source": [
    "def number_of_ways_dp(n):\n",
    "    if n <= 0:\n",
    "        return 0\n",
    "    elif n == 1:\n",
    "        return 1\n",
    "    elif n == 2:\n",
    "        return 2\n",
    "    elif n == 3:\n",
    "        return 4\n",
    "    ways = [0] * (n+1)\n",
    "    ways[0], ways[1], ways[2], ways[3] = 0, 1, 2, 4\n",
    "    for i in range(4, n+1):\n",
    "        ways[i] = ways[i-1] + ways[i-2] + ways[i-3]\n",
    "    return ways[n]"
   ]
  },
  {
   "cell_type": "code",
   "execution_count": 94,
   "metadata": {
    "collapsed": false
   },
   "outputs": [
    {
     "name": "stdout",
     "output_type": "stream",
     "text": [
      "True\n",
      "True\n",
      "True\n",
      "True\n",
      "True\n"
     ]
    }
   ],
   "source": [
    "print(number_of_ways_dp(7) == 44)\n",
    "\n",
    "print(number_of_ways_dp(9)==149)\n",
    "\n",
    "print(number_of_ways_dp(0)==0)\n",
    "\n",
    "print(number_of_ways_dp(1)==1)\n",
    "\n",
    "print(number_of_ways_dp(-7) == 0)"
   ]
  },
  {
   "cell_type": "code",
   "execution_count": null,
   "metadata": {
    "collapsed": true
   },
   "outputs": [],
   "source": []
  }
 ],
 "metadata": {
  "anaconda-cloud": {},
  "kernelspec": {
   "display_name": "Python [conda root]",
   "language": "python",
   "name": "conda-root-py"
  },
  "language_info": {
   "codemirror_mode": {
    "name": "ipython",
    "version": 3
   },
   "file_extension": ".py",
   "mimetype": "text/x-python",
   "name": "python",
   "nbconvert_exporter": "python",
   "pygments_lexer": "ipython3",
   "version": "3.5.2"
  }
 },
 "nbformat": 4,
 "nbformat_minor": 1
}
