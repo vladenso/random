{
 "cells": [
  {
   "cell_type": "markdown",
   "metadata": {},
   "source": [
    "### A Tic-Tac-Toe board is given as a string array board. Return True if and only if it is possible to reach this board position during the course of a valid tic-tac-toe game.\n",
    "\n",
    "### The board is a 3 x 3 array, and consists of characters \" \", \"X\", and \"O\".  The \" \" character represents an empty square. "
   ]
  },
  {
   "cell_type": "code",
   "execution_count": 1,
   "metadata": {
    "collapsed": false
   },
   "outputs": [],
   "source": [
    "def validTicTacToe(board):\n",
    "    \"\"\"\n",
    "    :type board: List[str]\n",
    "    :rtype: bool\n",
    "    \"\"\"\n",
    "    # since X starts first\n",
    "    # count(X) = count(O) or count(X) = count(O) + 1 \n",
    "    # if won by X, count(X) = count(O) - 1\n",
    "    # if won by O, count(X) = count(O)\n",
    "        \n",
    "    def is_won(board, player):\n",
    "        # row\n",
    "        for row in board:\n",
    "            if row.count(player) == 3:\n",
    "                return True\n",
    "        #column\n",
    "        for i in range(3):\n",
    "            col = ''.join([board[0][i], board[1][i], board[2][i]])\n",
    "            if col.count(player) == 3:\n",
    "                return True\n",
    "        #diagonals\n",
    "        diag1 = ''.join([board[0][0], board[1][1], board[2][2]])\n",
    "        diag2 = ''.join([board[0][2], board[1][1], board[2][0]])\n",
    "        if diag1.count(player) == 3 or diag2.count(player) == 3:\n",
    "            return True\n",
    "        return False\n",
    "        \n",
    "    chars = ''.join(board)\n",
    "    x = chars.count('X')\n",
    "    o = chars.count('O')\n",
    "    if x != o and x != o + 1:\n",
    "        return False\n",
    "    elif is_won(board, 'X') and x != o + 1:\n",
    "        return False\n",
    "    elif is_won(board, 'O') and x != o:\n",
    "        return False\n",
    "    return True"
   ]
  },
  {
   "cell_type": "code",
   "execution_count": 2,
   "metadata": {
    "collapsed": false
   },
   "outputs": [
    {
     "data": {
      "text/plain": [
       "True"
      ]
     },
     "execution_count": 2,
     "metadata": {},
     "output_type": "execute_result"
    }
   ],
   "source": [
    "validTicTacToe([\"   \",\"   \",\"   \"])"
   ]
  },
  {
   "cell_type": "code",
   "execution_count": 3,
   "metadata": {
    "collapsed": false
   },
   "outputs": [
    {
     "data": {
      "text/plain": [
       "True"
      ]
     },
     "execution_count": 3,
     "metadata": {},
     "output_type": "execute_result"
    }
   ],
   "source": [
    "validTicTacToe([\"   \",\"   \",\"X  \"])"
   ]
  },
  {
   "cell_type": "code",
   "execution_count": 4,
   "metadata": {
    "collapsed": false
   },
   "outputs": [
    {
     "data": {
      "text/plain": [
       "False"
      ]
     },
     "execution_count": 4,
     "metadata": {},
     "output_type": "execute_result"
    }
   ],
   "source": [
    "validTicTacToe([\"O  \",\"   \",\"   \"])"
   ]
  },
  {
   "cell_type": "code",
   "execution_count": 5,
   "metadata": {
    "collapsed": false
   },
   "outputs": [
    {
     "data": {
      "text/plain": [
       "False"
      ]
     },
     "execution_count": 5,
     "metadata": {},
     "output_type": "execute_result"
    }
   ],
   "source": [
    "validTicTacToe([\"XXO\",\"XOO\",\"OO \"])"
   ]
  },
  {
   "cell_type": "code",
   "execution_count": 6,
   "metadata": {
    "collapsed": false
   },
   "outputs": [
    {
     "data": {
      "text/plain": [
       "False"
      ]
     },
     "execution_count": 6,
     "metadata": {},
     "output_type": "execute_result"
    }
   ],
   "source": [
    "validTicTacToe([\"XXX\",\"XOO\",\"OO \"])"
   ]
  },
  {
   "cell_type": "code",
   "execution_count": 7,
   "metadata": {
    "collapsed": false
   },
   "outputs": [
    {
     "data": {
      "text/plain": [
       "True"
      ]
     },
     "execution_count": 7,
     "metadata": {},
     "output_type": "execute_result"
    }
   ],
   "source": [
    "validTicTacToe([\"XXX\",\"OOX\",\"OOX\"])"
   ]
  },
  {
   "cell_type": "code",
   "execution_count": 8,
   "metadata": {
    "collapsed": false
   },
   "outputs": [
    {
     "data": {
      "text/plain": [
       "False"
      ]
     },
     "execution_count": 8,
     "metadata": {},
     "output_type": "execute_result"
    }
   ],
   "source": [
    "validTicTacToe([\"XXX\",\"X \",\"OOO\"])"
   ]
  },
  {
   "cell_type": "code",
   "execution_count": null,
   "metadata": {
    "collapsed": true
   },
   "outputs": [],
   "source": []
  }
 ],
 "metadata": {
  "kernelspec": {
   "display_name": "Python [conda root]",
   "language": "python",
   "name": "conda-root-py"
  },
  "language_info": {
   "codemirror_mode": {
    "name": "ipython",
    "version": 3
   },
   "file_extension": ".py",
   "mimetype": "text/x-python",
   "name": "python",
   "nbconvert_exporter": "python",
   "pygments_lexer": "ipython3",
   "version": "3.5.2"
  }
 },
 "nbformat": 4,
 "nbformat_minor": 1
}
