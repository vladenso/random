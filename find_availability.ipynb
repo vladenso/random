{
 "cells": [
  {
   "cell_type": "markdown",
   "metadata": {
    "collapsed": false
   },
   "source": [
    "## Given a list of schedules for N people represented as N lists of intervals"
   ]
  },
  {
   "cell_type": "markdown",
   "metadata": {
    "collapsed": false
   },
   "source": [
    "## Find intervals where everyone of N people is available.\n",
    "Assume that every time interval stars before it ends and time is between 0 and 24 hours."
   ]
  },
  {
   "cell_type": "markdown",
   "metadata": {},
   "source": [
    "The simplest solution is to combine all the intervals to one list, and find gaps when noone is busy"
   ]
  },
  {
   "cell_type": "code",
   "execution_count": 1,
   "metadata": {
    "collapsed": false
   },
   "outputs": [],
   "source": [
    "def avail(lst):\n",
    "    # flatten the list\n",
    "    combined = [interval for sublist in lst for interval in sublist]\n",
    "     \n",
    "    # sort by start time\n",
    "    combined = sorted(combined, key=lambda x: x[0])\n",
    "    avail = []\n",
    "    prev = 0\n",
    "    for intr in combined:\n",
    "        if prev < intr[0]:\n",
    "            avail.append([prev, intr[0]])\n",
    "        prev = max(prev, intr[1])\n",
    "    if prev < 24:\n",
    "        avail.append([prev, 24])\n",
    "    return avail\n",
    "    "
   ]
  },
  {
   "cell_type": "code",
   "execution_count": 2,
   "metadata": {
    "collapsed": false
   },
   "outputs": [
    {
     "data": {
      "text/plain": [
       "[[0, 1], [4, 5], [14, 17], [22, 24]]"
      ]
     },
     "execution_count": 2,
     "metadata": {},
     "output_type": "execute_result"
    }
   ],
   "source": [
    "avail([ [[1,4], [5, 6], [8,13]],\\\n",
    "        [[3,4], [5,10]],\\\n",
    "        [[2,4], [5, 6], [9,14], [17,22]]])"
   ]
  },
  {
   "cell_type": "code",
   "execution_count": 3,
   "metadata": {
    "collapsed": false
   },
   "outputs": [
    {
     "data": {
      "text/plain": [
       "[[0, 1], [4, 5], [6, 8], [13, 24]]"
      ]
     },
     "execution_count": 3,
     "metadata": {},
     "output_type": "execute_result"
    }
   ],
   "source": [
    "avail([ [[1,4], [5, 6], [8,13]], []])"
   ]
  },
  {
   "cell_type": "code",
   "execution_count": 4,
   "metadata": {
    "collapsed": false
   },
   "outputs": [
    {
     "data": {
      "text/plain": [
       "[[22, 24]]"
      ]
     },
     "execution_count": 4,
     "metadata": {},
     "output_type": "execute_result"
    }
   ],
   "source": [
    "avail([ [[0,4], [5, 6], [8,13]],\\\n",
    "        [[3,6], [5,10]],\\\n",
    "        [[2,4], [5, 6], [12,18], [17,22]]])"
   ]
  },
  {
   "cell_type": "code",
   "execution_count": 5,
   "metadata": {
    "collapsed": false
   },
   "outputs": [
    {
     "data": {
      "text/plain": [
       "[]"
      ]
     },
     "execution_count": 5,
     "metadata": {},
     "output_type": "execute_result"
    }
   ],
   "source": [
    "avail([ [[0, 12], [18, 24]], \\\n",
    "        [[11, 19]]])"
   ]
  }
 ],
 "metadata": {
  "anaconda-cloud": {},
  "kernelspec": {
   "display_name": "Python [conda root]",
   "language": "python",
   "name": "conda-root-py"
  },
  "language_info": {
   "codemirror_mode": {
    "name": "ipython",
    "version": 3
   },
   "file_extension": ".py",
   "mimetype": "text/x-python",
   "name": "python",
   "nbconvert_exporter": "python",
   "pygments_lexer": "ipython3",
   "version": "3.5.2"
  }
 },
 "nbformat": 4,
 "nbformat_minor": 1
}
