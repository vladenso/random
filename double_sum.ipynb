{
 "cells": [
  {
   "cell_type": "markdown",
   "metadata": {},
   "source": [
    "### Find indesies of elements from the array that sum up to a given number"
   ]
  },
  {
   "cell_type": "code",
   "execution_count": 25,
   "metadata": {
    "collapsed": true
   },
   "outputs": [],
   "source": [
    "def double_sum(arr, total):\n",
    "    s = {}\n",
    "    for i in range(len(arr)):\n",
    "        s[arr[i]] = i\n",
    "    for j in range(len(arr)):\n",
    "        if (total - arr[j]) in s and j != s[total - arr[j]]:\n",
    "            return min(j+1, s[total - arr[j]]+1), max(j+1, s[total - arr[j]]+1)\n",
    "    return -1"
   ]
  },
  {
   "cell_type": "code",
   "execution_count": 26,
   "metadata": {
    "collapsed": false
   },
   "outputs": [
    {
     "name": "stdout",
     "output_type": "stream",
     "text": [
      "True\n",
      "True\n",
      "True\n",
      "True\n",
      "True\n",
      "True\n"
     ]
    }
   ],
   "source": [
    "print(double_sum([1, 4, 5, 3, 2], 4) == (1, 4))\n",
    "print(double_sum([2, 2, 4, 3], 4) == (1, 2)) \n",
    "print(double_sum([2, 2, 4, 3], 3) == -1)\n",
    "print(double_sum([3], 3) == -1)\n",
    "print(double_sum([3, 0], 3) == (1, 2))\n",
    "print(double_sum([4, 5, 2, -3], -1) == (3, 4))"
   ]
  },
  {
   "cell_type": "code",
   "execution_count": null,
   "metadata": {
    "collapsed": true
   },
   "outputs": [],
   "source": []
  }
 ],
 "metadata": {
  "anaconda-cloud": {},
  "kernelspec": {
   "display_name": "Python [conda root]",
   "language": "python",
   "name": "conda-root-py"
  },
  "language_info": {
   "codemirror_mode": {
    "name": "ipython",
    "version": 3
   },
   "file_extension": ".py",
   "mimetype": "text/x-python",
   "name": "python",
   "nbconvert_exporter": "python",
   "pygments_lexer": "ipython3",
   "version": "3.5.2"
  }
 },
 "nbformat": 4,
 "nbformat_minor": 1
}
