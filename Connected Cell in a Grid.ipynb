{
 "cells": [
  {
   "cell_type": "markdown",
   "metadata": {},
   "source": [
    "### Find the largest connected region (of 1's) in a grid. They can be connected horisontally, vertically as well as diagonally"
   ]
  },
  {
   "cell_type": "code",
   "execution_count": 105,
   "metadata": {
    "collapsed": false
   },
   "outputs": [],
   "source": [
    "def explore_region(grid, x, y):\n",
    "    if x < 0 or y < 0 or \\\n",
    "            y >= len(grid) or x >= len(grid[0]) \\\n",
    "                or grid[y][x] != 1:\n",
    "        return 0\n",
    "    grid[y][x] = -1\n",
    "    count = 1\n",
    "    for i in range(-1, 2):\n",
    "        for j in range(-1, 2):\n",
    "            count += explore_region(grid, x+i, y+j)\n",
    "    return count "
   ]
  },
  {
   "cell_type": "code",
   "execution_count": 110,
   "metadata": {
    "collapsed": false
   },
   "outputs": [],
   "source": [
    "def largest_connected_region(grid):\n",
    "    m = 0\n",
    "    for y in range(len(grid)):\n",
    "        for x in range(len(grid[0])):\n",
    "            if grid[y][x] == 1:\n",
    "                m = max(m, explore_region(grid, x, y))\n",
    "    return m"
   ]
  },
  {
   "cell_type": "code",
   "execution_count": 111,
   "metadata": {
    "collapsed": true
   },
   "outputs": [],
   "source": [
    "grid = [[1,0,0,0,0,0,0,0,0,0],\n",
    "        [1,0,0,0,0,0,0,0,0,0],\n",
    "        [0,0,1,1,0,0,1,1,1,0],\n",
    "        [0,0,0,1,0,0,0,0,1,0],\n",
    "        [0,0,0,1,0,0,0,0,1,0],\n",
    "        [0,0,0,0,0,0,0,0,1,0],\n",
    "        [0,0,0,0,0,0,0,0,0,0],\n",
    "        [0,0,0,0,0,0,0,0,0,0],\n",
    "        [0,0,0,1,1,1,0,0,0,0],\n",
    "        [0,0,0,0,0,0,0,0,0,0]]"
   ]
  },
  {
   "cell_type": "code",
   "execution_count": 112,
   "metadata": {
    "collapsed": false
   },
   "outputs": [
    {
     "data": {
      "text/plain": [
       "6"
      ]
     },
     "execution_count": 112,
     "metadata": {},
     "output_type": "execute_result"
    }
   ],
   "source": [
    "largest_connected_region(grid) "
   ]
  },
  {
   "cell_type": "code",
   "execution_count": 113,
   "metadata": {
    "collapsed": false
   },
   "outputs": [
    {
     "data": {
      "text/plain": [
       "5"
      ]
     },
     "execution_count": 113,
     "metadata": {},
     "output_type": "execute_result"
    }
   ],
   "source": [
    "grid = [[1,0,0,0,0,0,0,0,0,0],\n",
    "        [1,0,0,0,0,0,0,0,0,0],\n",
    "        [0,0,1,1,0,0,1,1,0,0],\n",
    "        [0,0,0,1,0,0,0,0,1,0],\n",
    "        [0,0,0,1,0,0,0,0,1,0],\n",
    "        [0,0,0,0,0,0,0,0,1,0],\n",
    "        [0,0,0,0,0,0,0,0,0,0],\n",
    "        [0,0,0,0,0,0,0,0,0,0],\n",
    "        [0,0,0,1,1,1,0,0,0,0],\n",
    "        [0,0,0,0,0,1,0,0,0,0]]\n",
    "largest_connected_region(grid) "
   ]
  },
  {
   "cell_type": "code",
   "execution_count": 114,
   "metadata": {
    "collapsed": false
   },
   "outputs": [
    {
     "data": {
      "text/plain": [
       "1"
      ]
     },
     "execution_count": 114,
     "metadata": {},
     "output_type": "execute_result"
    }
   ],
   "source": [
    "grid = [[1,0,0,0,0,0,0,0,0,0],\n",
    "        [0,0,0,0,0,0,0,0,0,0],\n",
    "        [0,0,1,0,0,0,1,0,0,0],\n",
    "        [0,0,0,0,0,0,0,0,1,0],\n",
    "        [0,0,0,1,0,0,0,0,0,0],\n",
    "        [0,0,0,0,0,0,0,0,1,0],\n",
    "        [0,0,0,0,0,0,0,0,0,0],\n",
    "        [0,0,0,0,0,0,0,0,0,0],\n",
    "        [0,0,0,1,0,1,0,0,0,0],\n",
    "        [0,0,0,0,0,0,0,0,0,0]]\n",
    "largest_connected_region(grid) "
   ]
  },
  {
   "cell_type": "code",
   "execution_count": null,
   "metadata": {
    "collapsed": true
   },
   "outputs": [],
   "source": []
  }
 ],
 "metadata": {
  "anaconda-cloud": {},
  "kernelspec": {
   "display_name": "Python [conda root]",
   "language": "python",
   "name": "conda-root-py"
  },
  "language_info": {
   "codemirror_mode": {
    "name": "ipython",
    "version": 3
   },
   "file_extension": ".py",
   "mimetype": "text/x-python",
   "name": "python",
   "nbconvert_exporter": "python",
   "pygments_lexer": "ipython3",
   "version": "3.5.2"
  }
 },
 "nbformat": 4,
 "nbformat_minor": 1
}
