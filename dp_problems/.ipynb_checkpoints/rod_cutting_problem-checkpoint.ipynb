{
 "cells": [
  {
   "cell_type": "code",
   "execution_count": 18,
   "metadata": {
    "collapsed": true
   },
   "outputs": [],
   "source": [
    "# l - (l>=0) total length\n",
    "# prices - list of tuples (length, price)\n",
    "def max_price(length, prices):\n",
    "    dp = [0] * (length+1)\n",
    "    for i in range(length+1):\n",
    "        for l, p in prices:\n",
    "            if (i-l) >= 0:\n",
    "                dp[i] = max(dp[i], dp[i-l]+p)\n",
    "    return dp[length]"
   ]
  },
  {
   "cell_type": "code",
   "execution_count": 22,
   "metadata": {
    "collapsed": false
   },
   "outputs": [
    {
     "name": "stdout",
     "output_type": "stream",
     "text": [
      "True\n",
      "True\n",
      "True\n",
      "True\n",
      "True\n"
     ]
    }
   ],
   "source": [
    "print(max_price(5, [(2,1),(1, .5)]) == 2.5) \n",
    "print(max_price(5, [(2,1),(1, 1)]) == 5) \n",
    "print(max_price(5, [(6,1),(7, 1)]) == 0)\n",
    "print(max_price(5, [(6,1),(3, 1)]) == 1)\n",
    "print(max_price(0, [(2,1),(1, .5)]) == 0)"
   ]
  },
  {
   "cell_type": "code",
   "execution_count": null,
   "metadata": {
    "collapsed": true
   },
   "outputs": [],
   "source": []
  }
 ],
 "metadata": {
  "anaconda-cloud": {},
  "kernelspec": {
   "display_name": "Python [conda root]",
   "language": "python",
   "name": "conda-root-py"
  },
  "language_info": {
   "codemirror_mode": {
    "name": "ipython",
    "version": 3
   },
   "file_extension": ".py",
   "mimetype": "text/x-python",
   "name": "python",
   "nbconvert_exporter": "python",
   "pygments_lexer": "ipython3",
   "version": "3.5.2"
  }
 },
 "nbformat": 4,
 "nbformat_minor": 1
}
