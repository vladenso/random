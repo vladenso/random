{
 "cells": [
  {
   "cell_type": "code",
   "execution_count": 10,
   "metadata": {
    "collapsed": true
   },
   "outputs": [],
   "source": [
    "# Wrong\n",
    "def longest_subs(seq1, seq2):\n",
    "    maximum = 0\n",
    "    max_s = []\n",
    "    for i in range(len(seq1)):\n",
    "        cur = 0\n",
    "        cur_s = ''\n",
    "        for j in range(len(seq2)):\n",
    "            if i+j < len(seq1) and seq1[i+j] == seq2[j]:\n",
    "                cur += 1\n",
    "                cur_s += seq1[i+j]\n",
    "        if cur > maximum:\n",
    "            max_s = cur_s\n",
    "            maximum = cur\n",
    "        \n",
    "    return max_s"
   ]
  },
  {
   "cell_type": "code",
   "execution_count": 11,
   "metadata": {
    "collapsed": false
   },
   "outputs": [
    {
     "data": {
      "text/plain": [
       "'sout'"
      ]
     },
     "execution_count": 11,
     "metadata": {},
     "output_type": "execute_result"
    }
   ],
   "source": [
    "#   a b s o l u t e\n",
    "#   s o n u t\n",
    "#     s o n u t  \n",
    "#       s o n u t\n",
    "#         s o n u t\n",
    "#           s o n u t\n",
    "#             s o n u t\n",
    "#               s o n u t \n",
    "#                 s o n u t\n",
    "longest_subs('absolute', 'sonut')"
   ]
  },
  {
   "cell_type": "code",
   "execution_count": 15,
   "metadata": {
    "collapsed": false
   },
   "outputs": [
    {
     "name": "stdout",
     "output_type": "stream",
     "text": [
      "False\n"
     ]
    }
   ],
   "source": [
    "print(longest_subs(\"ABCDGH\", \"AEDFHR\") == \"ADH\")"
   ]
  },
  {
   "cell_type": "code",
   "execution_count": 28,
   "metadata": {
    "collapsed": true
   },
   "outputs": [],
   "source": [
    "def longest_subs_r(seq1, seq2):\n",
    "    if not seq1 or not seq2:\n",
    "        return ''\n",
    "    if seq1[-1] == seq2[-1]:\n",
    "        return longest_subs_r(seq1[:-1], seq2[:-1]) + seq1[-1] \n",
    "    one = longest_subs_r(seq1[:-1], seq2)\n",
    "    two = longest_subs_r(seq1, seq2[:-1])\n",
    "    return one if len(one) > len(two) else two"
   ]
  },
  {
   "cell_type": "code",
   "execution_count": 29,
   "metadata": {
    "collapsed": false
   },
   "outputs": [
    {
     "name": "stdout",
     "output_type": "stream",
     "text": [
      "True\n",
      "True\n",
      "True\n",
      "True\n"
     ]
    }
   ],
   "source": [
    "print(longest_subs_r(\"ABCDGH\", \"AEDFHR\") == \"ADH\")\n",
    "print(longest_subs_r(\"AGGTAB\", \"GXTXAYB\") == \"GTAB\")\n",
    "print(longest_subs_r(\"\", \"GXTXAYB\") == \"\")\n",
    "print(longest_subs_r(\"NMLI\", \"GXTXAYB\") == \"\")"
   ]
  },
  {
   "cell_type": "code",
   "execution_count": 65,
   "metadata": {
    "collapsed": false
   },
   "outputs": [],
   "source": [
    "def longest_subs_dp(seq1, seq2):\n",
    "    n, m = len(seq1), len(seq2)\n",
    "    dp = [[0] * (n+1) for _ in range(m+1)]\n",
    "    #if not seq1 or not seq2:\n",
    "    #    return 0\n",
    "    for i in range(1, m+1):\n",
    "        for j in range(1, n+1):\n",
    "            if seq1[j-1] == seq2[i-1]:\n",
    "                dp[i][j] = 1 + dp[i-1][j-1]\n",
    "            else:\n",
    "                dp[i][j] = max(dp[i-1][j], dp[i][j-1]) \n",
    "    return dp[m][n]"
   ]
  },
  {
   "cell_type": "code",
   "execution_count": 63,
   "metadata": {
    "collapsed": false
   },
   "outputs": [
    {
     "name": "stdout",
     "output_type": "stream",
     "text": [
      "True\n",
      "True\n",
      "True\n"
     ]
    }
   ],
   "source": [
    "print(longest_subs_dp(\"ABCDGH\", \"AEDFHR\") == 3)\n",
    "print(longest_subs_dp(\"AGGTAB\", \"GXTXAYB\") == 4)\n",
    "print(longest_subs_dp(\"\", \"GXTXAYB\") == 0)\n"
   ]
  }
 ],
 "metadata": {
  "anaconda-cloud": {},
  "kernelspec": {
   "display_name": "Python [conda root]",
   "language": "python",
   "name": "conda-root-py"
  },
  "language_info": {
   "codemirror_mode": {
    "name": "ipython",
    "version": 3
   },
   "file_extension": ".py",
   "mimetype": "text/x-python",
   "name": "python",
   "nbconvert_exporter": "python",
   "pygments_lexer": "ipython3",
   "version": "3.5.2"
  }
 },
 "nbformat": 4,
 "nbformat_minor": 1
}
