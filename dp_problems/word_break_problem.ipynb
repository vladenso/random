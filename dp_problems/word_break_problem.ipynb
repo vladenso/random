{
 "cells": [
  {
   "cell_type": "raw",
   "metadata": {},
   "source": [
    "Consider the following dictionary \n",
    "{ i, like, sam, sung, samsung, mobile, ice, \n",
    "  cream, icecream, man, go, mango}\n",
    "\n",
    "Input:  ilike\n",
    "Output: Yes \n",
    "The string can be segmented as \"i like\".\n",
    "\n",
    "Input:  ilikesamsung\n",
    "Output: Yes\n",
    "The string can be segmented as \"i like samsung\" \n",
    "or \"i like sam sung\"."
   ]
  },
  {
   "cell_type": "code",
   "execution_count": 19,
   "metadata": {
    "collapsed": false
   },
   "outputs": [],
   "source": [
    "def in_dictionary(string, dictionary):\n",
    "    n = len(string)\n",
    "    dp = [False] * (n+1)\n",
    "    dp[0] = True\n",
    "    for i in range(1, n+1):\n",
    "        j = i-1\n",
    "        while not dp[i] and j >= 0:\n",
    "            dp[i] = dp[j] and (string[j:i] in dictionary)\n",
    "            j -= 1\n",
    "    return dp[n]"
   ]
  },
  {
   "cell_type": "code",
   "execution_count": 20,
   "metadata": {
    "collapsed": false
   },
   "outputs": [
    {
     "name": "stdout",
     "output_type": "stream",
     "text": [
      "True\n",
      "True\n"
     ]
    }
   ],
   "source": [
    "dictionary = set(['i', 'like', 'sam', 'sung', 'samsung', 'mobile', 'ice', \n",
    "  'cream', 'icecream', 'man', 'go', 'mango'])\n",
    "print(in_dictionary('ilike', dictionary))\n",
    "print(in_dictionary('ilikesamsung', dictionary))"
   ]
  },
  {
   "cell_type": "code",
   "execution_count": null,
   "metadata": {
    "collapsed": true
   },
   "outputs": [],
   "source": []
  }
 ],
 "metadata": {
  "kernelspec": {
   "display_name": "Python [conda root]",
   "language": "python",
   "name": "conda-root-py"
  },
  "language_info": {
   "codemirror_mode": {
    "name": "ipython",
    "version": 3
   },
   "file_extension": ".py",
   "mimetype": "text/x-python",
   "name": "python",
   "nbconvert_exporter": "python",
   "pygments_lexer": "ipython3",
   "version": "3.5.2"
  }
 },
 "nbformat": 4,
 "nbformat_minor": 1
}
