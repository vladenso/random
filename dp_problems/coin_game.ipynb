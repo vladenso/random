{
 "cells": [
  {
   "cell_type": "raw",
   "metadata": {},
   "source": [
    "Problem statement: Consider a row of n coins of values v1 . . . vn, where n is even. We play a game against an opponent by alternating turns. In each turn, a player selects either the first or last coin from the row, removes it from the row permanently, and receives the value of the coin. Determine the maximum possible amount of money we can definitely win if we move first."
   ]
  },
  {
   "cell_type": "code",
   "execution_count": 16,
   "metadata": {
    "collapsed": true
   },
   "outputs": [],
   "source": [
    "def strategy_r1(coins, turn=1):\n",
    "    if not coins:\n",
    "        return 0\n",
    "    if turn == 0:\n",
    "        return min(strategy_r1(coins[1:], 1-turn), strategy_r1(coins[:-1], 1 - turn))\n",
    "    return max(coins[0] + strategy_r1(coins[1:], 1-turn), strategy_r1(coins[:-1], 1-turn) + coins[-1])"
   ]
  },
  {
   "cell_type": "code",
   "execution_count": 18,
   "metadata": {
    "collapsed": true
   },
   "outputs": [],
   "source": [
    "def strategy_r2(coins):\n",
    "    #   F(i, j)  = Max(Vi + min(F(i+2, j), F(i+1, j-1) ), \n",
    "    #                   Vj + min(F(i+1, j-1), F(i, j-2) ))\n",
    "    if not coins:\n",
    "        return 0\n",
    "    return max(coins[0] + min(strategy_r2(coins[2:]), strategy_r2(coins[1:-1])),\n",
    "             coins[-1] + min(strategy_r2(coins[:-2]), strategy_r2(coins[1:-1])))"
   ]
  },
  {
   "cell_type": "code",
   "execution_count": 20,
   "metadata": {
    "collapsed": false
   },
   "outputs": [
    {
     "name": "stdout",
     "output_type": "stream",
     "text": [
      "True\n",
      "True\n",
      "True\n",
      "True\n"
     ]
    }
   ],
   "source": [
    "print(strategy_r1([8, 15, 3, 7]) == 22)\n",
    "print(strategy_r1([2, 2, 2, 2]) == 4)\n",
    "print(strategy_r1([20, 30, 2, 2, 2, 10]) == 42)\n",
    "print(strategy_r1([0,4,2,10,0]) == 2)"
   ]
  },
  {
   "cell_type": "code",
   "execution_count": 21,
   "metadata": {
    "collapsed": false
   },
   "outputs": [
    {
     "name": "stdout",
     "output_type": "stream",
     "text": [
      "True\n",
      "True\n",
      "True\n",
      "True\n"
     ]
    }
   ],
   "source": [
    "print(strategy_r2([8, 15, 3, 7]) == 22)\n",
    "print(strategy_r2([2, 2, 2, 2]) == 4)\n",
    "print(strategy_r2([20, 30, 2, 2, 2, 10]) == 42)\n",
    "print(strategy_r2([0,4,2,10,0]) == 2)"
   ]
  },
  {
   "cell_type": "code",
   "execution_count": 61,
   "metadata": {
    "collapsed": true
   },
   "outputs": [],
   "source": [
    "def strategy_dp(coins):\n",
    "    #   F(i, j)  = Max(Vi + min(F(i+2, j), F(i+1, j-1) ), \n",
    "    #                   Vj + min(F(i+1, j-1), F(i, j-2) )) \n",
    "    n = len(coins)\n",
    "    dp = [[0] * n for _ in range(n)]\n",
    "    for s in range(n):\n",
    "        for i in range(n):\n",
    "            j = i + s\n",
    "            min1 = min2 = 0\n",
    "            if i >= n or j >= n:\n",
    "                continue\n",
    "            if i+1 < n and j-1 >= 0:\n",
    "                min1 = dp[i+1][j-1]\n",
    "            if j-2 >= 0:\n",
    "                min2 = min(dp[i][j-2], min1)\n",
    "            if i+2 < n:\n",
    "                min1 = min(dp[i+2][j], min1)\n",
    "            dp[i][j] = max(coins[i] + min1,\n",
    "                          coins[j] + min2)\n",
    "    #print(dp)\n",
    "    return dp[0][n-1]"
   ]
  },
  {
   "cell_type": "code",
   "execution_count": 62,
   "metadata": {
    "collapsed": false
   },
   "outputs": [
    {
     "name": "stdout",
     "output_type": "stream",
     "text": [
      "True\n",
      "True\n",
      "True\n",
      "True\n"
     ]
    }
   ],
   "source": [
    "print(strategy_dp([8, 15, 3, 7]) == 22)\n",
    "print(strategy_dp([2, 2, 2, 2]) == 4)\n",
    "print(strategy_dp([20, 30, 2, 2, 2, 10]) == 42)\n",
    "print(strategy_dp([0,4,2,10,0]) == 2)"
   ]
  },
  {
   "cell_type": "code",
   "execution_count": null,
   "metadata": {
    "collapsed": true
   },
   "outputs": [],
   "source": []
  }
 ],
 "metadata": {
  "anaconda-cloud": {},
  "kernelspec": {
   "display_name": "Python [conda root]",
   "language": "python",
   "name": "conda-root-py"
  },
  "language_info": {
   "codemirror_mode": {
    "name": "ipython",
    "version": 3
   },
   "file_extension": ".py",
   "mimetype": "text/x-python",
   "name": "python",
   "nbconvert_exporter": "python",
   "pygments_lexer": "ipython3",
   "version": "3.5.2"
  }
 },
 "nbformat": 4,
 "nbformat_minor": 1
}
