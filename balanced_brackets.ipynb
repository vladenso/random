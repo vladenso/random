{
 "cells": [
  {
   "cell_type": "markdown",
   "metadata": {},
   "source": [
    "Determine whether a sequence of brackets is balanced.\n",
    "A bracket is considered to be any one of the following characters: (, ), {, }, [, or ]."
   ]
  },
  {
   "cell_type": "code",
   "execution_count": 1,
   "metadata": {
    "collapsed": true
   },
   "outputs": [],
   "source": [
    "def is_balanced(s):\n",
    "    stack = []\n",
    "    for c in s:\n",
    "        if c in ['[', '{', '(']:\n",
    "            stack.append(c)\n",
    "        elif c in [']', '}', ')']:\n",
    "            if not stack:\n",
    "                return False\n",
    "            else:\n",
    "                m = stack.pop()\n",
    "                if m == '[' and c == ']' or \\\n",
    "                   m == '{' and c == '}' or \\\n",
    "                   m == '(' and c == ')':\n",
    "                    continue\n",
    "                else:\n",
    "                    return False\n",
    "    return not stack\n",
    "                "
   ]
  },
  {
   "cell_type": "code",
   "execution_count": 10,
   "metadata": {
    "collapsed": false
   },
   "outputs": [
    {
     "name": "stdout",
     "output_type": "stream",
     "text": [
      "True\n",
      "True\n",
      "True\n",
      "True\n",
      "True\n",
      "True\n"
     ]
    }
   ],
   "source": [
    "print(is_balanced('()') == True)\n",
    "\n",
    "print(is_balanced('({[]})') == True)\n",
    "\n",
    "print(is_balanced('df(f{df() fdf[]}g dg)') == True)\n",
    "\n",
    "print(is_balanced('(){}') == True)\n",
    "\n",
    "print(is_balanced('') == True)\n",
    "\n",
    "print(is_balanced('sfddf') == True)"
   ]
  },
  {
   "cell_type": "code",
   "execution_count": 12,
   "metadata": {
    "collapsed": false
   },
   "outputs": [
    {
     "name": "stdout",
     "output_type": "stream",
     "text": [
      "True\n",
      "True\n",
      "True\n"
     ]
    }
   ],
   "source": [
    "print(is_balanced('({)}') == False)\n",
    "print(is_balanced('()}') == False)\n",
    "print(is_balanced('[()}') == False)"
   ]
  },
  {
   "cell_type": "code",
   "execution_count": null,
   "metadata": {
    "collapsed": true
   },
   "outputs": [],
   "source": []
  }
 ],
 "metadata": {
  "anaconda-cloud": {},
  "kernelspec": {
   "display_name": "Python [conda root]",
   "language": "python",
   "name": "conda-root-py"
  },
  "language_info": {
   "codemirror_mode": {
    "name": "ipython",
    "version": 3
   },
   "file_extension": ".py",
   "mimetype": "text/x-python",
   "name": "python",
   "nbconvert_exporter": "python",
   "pygments_lexer": "ipython3",
   "version": "3.5.2"
  }
 },
 "nbformat": 4,
 "nbformat_minor": 1
}
